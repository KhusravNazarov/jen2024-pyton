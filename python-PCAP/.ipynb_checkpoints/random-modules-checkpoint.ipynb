{
 "cells": [
  {
   "cell_type": "code",
   "execution_count": 3,
   "id": "74f46a3f-a5d3-428f-9b72-196fd1ef4378",
   "metadata": {},
   "outputs": [
    {
     "name": "stdout",
     "output_type": "stream",
     "text": [
      "0.7616115123949366\n",
      "0.9785985948279248\n",
      "0.8548796167367582\n",
      "0.09347277130521081\n"
     ]
    }
   ],
   "source": [
    " import random \n",
    "print(random.random()) # gives random outputs \n",
    "print(random.random())\n",
    "print(random.random())\n",
    "print(random.random())"
   ]
  },
  {
   "cell_type": "code",
   "execution_count": 45,
   "id": "521d3d36-6f97-40d4-bfec-5c4ed8116a03",
   "metadata": {},
   "outputs": [
    {
     "name": "stdout",
     "output_type": "stream",
     "text": [
      "0.1572194437620762\n",
      "0.049368856991366394\n",
      "0.5878990540687176\n",
      "0.14559254186553383\n"
     ]
    }
   ],
   "source": [
    "import random \n",
    "random.seed(0.4) # fixed output \n",
    "print(random.random())\n",
    "print(random.random())\n",
    "print(random.random())\n",
    "print(random.random())"
   ]
  },
  {
   "cell_type": "code",
   "execution_count": 153,
   "id": "9e12f875-3956-4642-aec7-d28d199ea438",
   "metadata": {},
   "outputs": [
    {
     "name": "stdout",
     "output_type": "stream",
     "text": [
      "2\n",
      "ee\n"
     ]
    },
    {
     "data": {
      "text/plain": [
       "'a'"
      ]
     },
     "execution_count": 153,
     "metadata": {},
     "output_type": "execute_result"
    }
   ],
   "source": [
    "import random\n",
    "random.seed(1) # fixed output \n",
    "numbers = [1, 2, 3, 5, 4, 7]\n",
    "name = ['aa', 'bb', 'cc', 'dd', 'ee',]\n",
    "print(random.choice(numbers)) # choice module gives random values, but sometimes duplicates\n",
    "print(random.choice(name))\n",
    "random.choice('asdfgaesdgafda')"
   ]
  },
  {
   "cell_type": "code",
   "execution_count": null,
   "id": "0141e449-ea14-46dc-996d-39171fa4e9dc",
   "metadata": {},
   "outputs": [],
   "source": [
    "numbers = [1, 2, 3, 5, 4, 7] "
   ]
  },
  {
   "cell_type": "code",
   "execution_count": 155,
   "id": "f8dbbea6-1b93-4961-b0a2-a7dddeb3a179",
   "metadata": {},
   "outputs": [
    {
     "name": "stdout",
     "output_type": "stream",
     "text": [
      "[1, 3, 7]\n"
     ]
    }
   ],
   "source": [
    "numbers = [1, 2, 3, 5, 4, 7]\n",
    "name = ['aa', 'bb', 'cc', 'dd', 'ee',]\n",
    "print(random.sample(numbers, 3)) # sample gives defined amount(3) from the list - and based on unique \"indexes\" duplicates, but max defined num should not exit listamount\n",
    "\n"
   ]
  },
  {
   "cell_type": "code",
   "execution_count": null,
   "id": "e9130745-7cdc-4ae8-8cb6-96afbfd49ab9",
   "metadata": {},
   "outputs": [],
   "source": []
  },
  {
   "cell_type": "code",
   "execution_count": 215,
   "id": "5b9903d2-48af-4517-bec8-b7e2954d29fe",
   "metadata": {},
   "outputs": [
    {
     "data": {
      "text/plain": [
       "([5, 8, 3, 4, 7], 4)"
      ]
     },
     "execution_count": 215,
     "metadata": {},
     "output_type": "execute_result"
    }
   ],
   "source": [
    "import random\n",
    "\n",
    "def generate_tickets(ticket_count, max_number):\n",
    "    numbers = range(0, max_number) # get list of nums\n",
    "    random_num = (random.sample(numbers, ticket_count)) # get 5 random nums\n",
    "    winner = (random.sample(random_num, 1)) # get 1 random from 5 random nums\n",
    "    final_winner=(winner[0])\n",
    "    result = (random_num, final_winner)\n",
    "    return (result)\n",
    "\n",
    "ticket_count = 5 \n",
    "max_number = 10\n",
    "generate_tickets(ticket_count, max_number)"
   ]
  },
  {
   "cell_type": "code",
   "execution_count": null,
   "id": "830bfb29-9d49-4b05-88ed-9eafde44961b",
   "metadata": {},
   "outputs": [],
   "source": []
  },
  {
   "cell_type": "code",
   "execution_count": null,
   "id": "a48037d7-7aca-4d7a-aac0-840e8f9e055c",
   "metadata": {},
   "outputs": [],
   "source": [
    "# Define a list\n",
    "my_list = [1, 2, 3]\n",
    "\n",
    "# Define an integer\n",
    "my_int = 10\n",
    "\n",
    "# Create a tuple with the list and the integer\n",
    "my_tuple = (my_list, my_int)\n",
    "\n",
    "# Output the result\n",
    "print(my_tuple)"
   ]
  }
 ],
 "metadata": {
  "kernelspec": {
   "display_name": "Python [conda env:base] *",
   "language": "python",
   "name": "conda-base-py"
  },
  "language_info": {
   "codemirror_mode": {
    "name": "ipython",
    "version": 3
   },
   "file_extension": ".py",
   "mimetype": "text/x-python",
   "name": "python",
   "nbconvert_exporter": "python",
   "pygments_lexer": "ipython3",
   "version": "3.12.7"
  }
 },
 "nbformat": 4,
 "nbformat_minor": 5
}
