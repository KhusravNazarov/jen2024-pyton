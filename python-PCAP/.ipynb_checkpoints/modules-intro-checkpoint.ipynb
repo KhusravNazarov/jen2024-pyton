{
 "cells": [
  {
   "cell_type": "code",
   "execution_count": 5,
   "id": "802fad9b-b83d-4f84-a837-b214e7aab5f6",
   "metadata": {},
   "outputs": [
    {
     "name": "stdout",
     "output_type": "stream",
     "text": [
      "__breakpointhook__\t__displayhook__\t__doc__\t__excepthook__\t__interactivehook__\t__loader__\t__name__\t__package__\t__spec__\t__stderr__\t__stdin__\t__stdout__\t__unraisablehook__\t_base_executable\t_clear_type_cache\t_current_exceptions\t_current_frames\t_debugmallocstats\t_framework\t_getframe\t_getframemodulename\t_git\t_home\t_setprofileallthreads\t_settraceallthreads\t_stdlib_dir\t_xoptions\tabiflags\tactivate_stack_trampoline\taddaudithook\tapi_version\targv\taudit\tbase_exec_prefix\tbase_prefix\tbreakpointhook\tbuiltin_module_names\tbyteorder\tcall_tracing\tcopyright\tdeactivate_stack_trampoline\tdisplayhook\tdont_write_bytecode\texc_info\texcepthook\texception\texec_prefix\texecutable\texit\tflags\tfloat_info\tfloat_repr_style\tget_asyncgen_hooks\tget_coroutine_origin_tracking_depth\tget_int_max_str_digits\tgetallocatedblocks\tgetdefaultencoding\tgetdlopenflags\tgetfilesystemencodeerrors\tgetfilesystemencoding\tgetprofile\tgetrecursionlimit\tgetrefcount\tgetsizeof\tgetswitchinterval\tgettrace\tgetunicodeinternedsize\thash_info\thexversion\timplementation\tint_info\tintern\tis_finalizing\tis_stack_trampoline_active\tmaxsize\tmaxunicode\tmeta_path\tmodules\tmonitoring\torig_argv\tpath\tpath_hooks\tpath_importer_cache\tplatform\tplatlibdir\tprefix\tps1\tps2\tps3\tpycache_prefix\tset_asyncgen_hooks\tset_coroutine_origin_tracking_depth\tset_int_max_str_digits\tsetdlopenflags\tsetprofile\tsetrecursionlimit\tsetswitchinterval\tsettrace\tstderr\tstdin\tstdlib_module_names\tstdout\tthread_info\tunraisablehook\tversion\tversion_info\twarnoptions\t"
     ]
    }
   ],
   "source": [
    "import sys, math\n",
    "for name in dir(sys):\n",
    "    print(name, end='\\t')\n",
    "\n"
   ]
  },
  {
   "cell_type": "code",
   "execution_count": 7,
   "id": "0510c004-a8f4-460f-ac22-99e1ebabf98d",
   "metadata": {},
   "outputs": [
    {
     "ename": "SystemExit",
     "evalue": "",
     "output_type": "error",
     "traceback": [
      "An exception has occurred, use %tb to see the full traceback.\n",
      "\u001b[0;31mSystemExit\u001b[0m\n"
     ]
    },
    {
     "name": "stderr",
     "output_type": "stream",
     "text": [
      "/opt/anaconda3/lib/python3.12/site-packages/IPython/core/interactiveshell.py:3585: UserWarning: To exit: use 'exit', 'quit', or Ctrl-D.\n",
      "  warn(\"To exit: use 'exit', 'quit', or Ctrl-D.\", stacklevel=1)\n"
     ]
    }
   ],
   "source": [
    "import  sys\n",
    "sys.exit()\n"
   ]
  },
  {
   "cell_type": "code",
   "execution_count": 11,
   "id": "09a5cf01-5bbb-4309-a995-0a1929b2ade7",
   "metadata": {},
   "outputs": [
    {
     "name": "stdout",
     "output_type": "stream",
     "text": [
      "I want to exit\n"
     ]
    },
    {
     "ename": "SystemExit",
     "evalue": "",
     "output_type": "error",
     "traceback": [
      "An exception has occurred, use %tb to see the full traceback.\n",
      "\u001b[0;31mSystemExit\u001b[0m\n"
     ]
    }
   ],
   "source": [
    "import  sys\n",
    "def exit():\n",
    "    print('I want to exit')\n",
    "exit()\n",
    "sys.exit()"
   ]
  },
  {
   "cell_type": "code",
   "execution_count": 13,
   "id": "f86a6650-a1df-48ef-90bf-7dd6e7dd9ab3",
   "metadata": {},
   "outputs": [
    {
     "name": "stdout",
     "output_type": "stream",
     "text": [
      "I want to exit\n"
     ]
    }
   ],
   "source": [
    "from sys import exit\n",
    "def exit():\n",
    "    print('I want to exit')\n",
    "exit() # your own function will overwrite imported\n"
   ]
  },
  {
   "cell_type": "code",
   "execution_count": null,
   "id": "cff33478-a9a0-4b6e-835d-0422333482bb",
   "metadata": {},
   "outputs": [],
   "source": [
    "from sys import * # also works but you may get a lot of conflict\n",
    "def exit():\n",
    "    print('I want to exit')\n",
    "exit() # your own function will overwrite imported"
   ]
  },
  {
   "cell_type": "code",
   "execution_count": 15,
   "id": "cfb35138-0497-49a3-a4b0-14e084ef4afc",
   "metadata": {},
   "outputs": [
    {
     "name": "stdout",
     "output_type": "stream",
     "text": [
      "I want to exit\n"
     ]
    },
    {
     "ename": "SystemExit",
     "evalue": "",
     "output_type": "error",
     "traceback": [
      "An exception has occurred, use %tb to see the full traceback.\n",
      "\u001b[0;31mSystemExit\u001b[0m\n"
     ]
    }
   ],
   "source": [
    "import  sys as s # you can use aliases to shorten module name\n",
    "def exit():\n",
    "    print('I want to exit')\n",
    "exit()\n",
    "s.exit()"
   ]
  }
 ],
 "metadata": {
  "kernelspec": {
   "display_name": "Python [conda env:base] *",
   "language": "python",
   "name": "conda-base-py"
  },
  "language_info": {
   "codemirror_mode": {
    "name": "ipython",
    "version": 3
   },
   "file_extension": ".py",
   "mimetype": "text/x-python",
   "name": "python",
   "nbconvert_exporter": "python",
   "pygments_lexer": "ipython3",
   "version": "3.12.7"
  }
 },
 "nbformat": 4,
 "nbformat_minor": 5
}
