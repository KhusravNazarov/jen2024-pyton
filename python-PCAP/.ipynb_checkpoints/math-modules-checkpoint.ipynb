{
 "cells": [
  {
   "cell_type": "code",
   "execution_count": 3,
   "id": "3be0e03d-3cd1-491f-b35d-56f3cd1aa33b",
   "metadata": {},
   "outputs": [
    {
     "name": "stdout",
     "output_type": "stream",
     "text": [
      "__doc__\t__file__\t__loader__\t__name__\t__package__\t__spec__\tacos\tacosh\tasin\tasinh\tatan\tatan2\tatanh\tcbrt\tceil\tcomb\tcopysign\tcos\tcosh\tdegrees\tdist\te\terf\terfc\texp\texp2\texpm1\tfabs\tfactorial\tfloor\tfmod\tfrexp\tfsum\tgamma\tgcd\thypot\tinf\tisclose\tisfinite\tisinf\tisnan\tisqrt\tlcm\tldexp\tlgamma\tlog\tlog10\tlog1p\tlog2\tmodf\tnan\tnextafter\tperm\tpi\tpow\tprod\tradians\tremainder\tsin\tsinh\tsqrt\tsumprod\ttan\ttanh\ttau\ttrunc\tulp\t"
     ]
    }
   ],
   "source": [
    "import math \n",
    "for name in dir(math):\n",
    "    print(name, end='\\t')"
   ]
  },
  {
   "cell_type": "code",
   "execution_count": 9,
   "id": "f84d89ba-d4e7-4af7-a336-e806699cda8c",
   "metadata": {},
   "outputs": [
    {
     "name": "stdout",
     "output_type": "stream",
     "text": [
      "4\n",
      "3\n",
      "3\n"
     ]
    }
   ],
   "source": [
    "# ceil(), floor(), trunc()\n",
    "print(math.ceil(3.6) ) # ceil rounds the num to the nearest integer (never less the num itself)\n",
    "print(math.floor(3.6 ) # floor rounds the num to the nearest integer \"not greater\" then num\n",
    "print(math.trunc(3.6 # just removes the desimals"
   ]
  },
  {
   "cell_type": "code",
   "execution_count": 11,
   "id": "858b6217-5fce-46be-bd44-9622a12963ab",
   "metadata": {},
   "outputs": [
    {
     "name": "stdout",
     "output_type": "stream",
     "text": [
      "4\n",
      "6\n",
      "-3\n",
      "4\n",
      "4\n"
     ]
    }
   ],
   "source": [
    "print(math.ceil(3.1) ) \n",
    "print(math.ceil(5.5346) ) \n",
    "print(math.ceil(-3.1) ) \n",
    "print(math.ceil(3.1) ) \n",
    "print(math.ceil(3.1) ) "
   ]
  },
  {
   "cell_type": "code",
   "execution_count": 13,
   "id": "288f75b0-ed39-42b8-93c4-b0c33ed12be5",
   "metadata": {},
   "outputs": [
    {
     "name": "stdout",
     "output_type": "stream",
     "text": [
      "3\n",
      "5\n",
      "-4\n",
      "3\n",
      "3\n"
     ]
    }
   ],
   "source": [
    "print(math.floor(3.1) ) \n",
    "print(math.floor(5.5346) ) \n",
    "print(math.floor(-3.1) ) \n",
    "print(math.floor(3.1) ) \n",
    "print(math.floor(3.1) ) "
   ]
  },
  {
   "cell_type": "code",
   "execution_count": 15,
   "id": "027e6ff7-a7ae-42a4-afc4-a674428eeb0b",
   "metadata": {},
   "outputs": [
    {
     "name": "stdout",
     "output_type": "stream",
     "text": [
      "3\n",
      "5\n",
      "-3\n",
      "3\n",
      "3\n"
     ]
    }
   ],
   "source": [
    "print(math.trunc(3.1) ) \n",
    "print(math.trunc(5.5346) ) \n",
    "print(math.trunc(-3.1) ) \n",
    "print(math.trunc(3.1) ) \n",
    "print(math.trunc(3.1) ) "
   ]
  },
  {
   "cell_type": "code",
   "execution_count": 17,
   "id": "5e20600a-035c-40ed-83a1-9297fe235df4",
   "metadata": {},
   "outputs": [
    {
     "name": "stdout",
     "output_type": "stream",
     "text": [
      "120\n"
     ]
    }
   ],
   "source": [
    "# factorial() # the multiplication of all positive integers less than or equal to the given num\n",
    "# 4! = 4 * 3 * 2 * 1\n",
    "print(math.factorial(5))\n"
   ]
  },
  {
   "cell_type": "code",
   "execution_count": 23,
   "id": "edc1f231-ed08-4f2a-a28c-4caefb59b4d2",
   "metadata": {},
   "outputs": [
    {
     "name": "stdout",
     "output_type": "stream",
     "text": [
      "4.0\n",
      "4.123105625617661\n"
     ]
    }
   ],
   "source": [
    "# sqrt # square root of the num ( output is float even input is int)\n",
    "print(math.sqrt(16))\n",
    "print(math.sqrt(17))\n"
   ]
  },
  {
   "cell_type": "code",
   "execution_count": 31,
   "id": "eec9e42e-0e01-4cfa-833e-2b9589589a17",
   "metadata": {},
   "outputs": [
    {
     "name": "stdout",
     "output_type": "stream",
     "text": [
      "7.211102550927978\n"
     ]
    }
   ],
   "source": [
    "# hypot () # hypothenuse (triangle geometry)\n",
    "print(math.hypot(4,6))\n"
   ]
  }
 ],
 "metadata": {
  "kernelspec": {
   "display_name": "Python [conda env:base] *",
   "language": "python",
   "name": "conda-base-py"
  },
  "language_info": {
   "codemirror_mode": {
    "name": "ipython",
    "version": 3
   },
   "file_extension": ".py",
   "mimetype": "text/x-python",
   "name": "python",
   "nbconvert_exporter": "python",
   "pygments_lexer": "ipython3",
   "version": "3.12.7"
  }
 },
 "nbformat": 4,
 "nbformat_minor": 5
}
