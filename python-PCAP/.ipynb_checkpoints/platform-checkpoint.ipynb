{
 "cells": [
  {
   "cell_type": "code",
   "execution_count": 1,
   "id": "17a06e67-6d24-4da3-ae8c-51715cd439a2",
   "metadata": {},
   "outputs": [
    {
     "data": {
      "text/plain": [
       "'macOS-10.16-x86_64-i386-64bit'"
      ]
     },
     "execution_count": 1,
     "metadata": {},
     "output_type": "execute_result"
    }
   ],
   "source": [
    "import platform \n",
    "platform.platform()"
   ]
  },
  {
   "cell_type": "code",
   "execution_count": 3,
   "id": "e56e67b1-1226-45b1-8b07-e53a133e0643",
   "metadata": {},
   "outputs": [
    {
     "data": {
      "text/plain": [
       "'macOS-10.16-x86_64-i386-64bit'"
      ]
     },
     "execution_count": 3,
     "metadata": {},
     "output_type": "execute_result"
    }
   ],
   "source": [
    "import platform \n",
    "platform.platform()\n",
    "platform.platform(aliased=False, terse=False) # default values"
   ]
  },
  {
   "cell_type": "code",
   "execution_count": 5,
   "id": "0a38b06b-3328-43c8-ad6a-33feb63665b3",
   "metadata": {},
   "outputs": [
    {
     "data": {
      "text/plain": [
       "'macOS-10.16'"
      ]
     },
     "execution_count": 5,
     "metadata": {},
     "output_type": "execute_result"
    }
   ],
   "source": [
    "import platform \n",
    "platform.platform(True, True)"
   ]
  },
  {
   "cell_type": "code",
   "execution_count": 11,
   "id": "42ba4048-8b84-45ce-954f-9f2e1d9395b7",
   "metadata": {},
   "outputs": [
    {
     "data": {
      "text/plain": [
       "'i386'"
      ]
     },
     "execution_count": 11,
     "metadata": {},
     "output_type": "execute_result"
    }
   ],
   "source": [
    "import platform \n",
    "platform.machine() # processor which runs your os (generic way)\n",
    "platform.processor() \n"
   ]
  },
  {
   "cell_type": "code",
   "execution_count": 13,
   "id": "b62623ab-88da-4f94-ad40-12b4a410f0fd",
   "metadata": {},
   "outputs": [
    {
     "data": {
      "text/plain": [
       "'i386'"
      ]
     },
     "execution_count": 13,
     "metadata": {},
     "output_type": "execute_result"
    }
   ],
   "source": [
    "platform.processor() \n",
    "\n"
   ]
  },
  {
   "cell_type": "code",
   "execution_count": 15,
   "id": "bab8eaea-0d54-4ac1-b410-ac6cf7ad9182",
   "metadata": {},
   "outputs": [
    {
     "data": {
      "text/plain": [
       "'CPython'"
      ]
     },
     "execution_count": 15,
     "metadata": {},
     "output_type": "execute_result"
    }
   ],
   "source": [
    "platform.python_implementation() # python implementation (cpython - written in c)\n"
   ]
  },
  {
   "cell_type": "code",
   "execution_count": 17,
   "id": "beba8726-6e1b-40f1-b6b3-9d01f4088d5f",
   "metadata": {},
   "outputs": [
    {
     "data": {
      "text/plain": [
       "('3', '12', '7')"
      ]
     },
     "execution_count": 17,
     "metadata": {},
     "output_type": "execute_result"
    }
   ],
   "source": [
    "platform.python_version_tuple() # tuple of cemential versioning of python)"
   ]
  },
  {
   "cell_type": "code",
   "execution_count": 19,
   "id": "74e13257-d8c1-4018-b77b-0ae458613acb",
   "metadata": {},
   "outputs": [
    {
     "data": {
      "text/plain": [
       "'Darwin Kernel Version 22.3.0: Thu Jan  5 20:53:49 PST 2023; root:xnu-8792.81.2~2/RELEASE_X86_64'"
      ]
     },
     "execution_count": 19,
     "metadata": {},
     "output_type": "execute_result"
    }
   ],
   "source": [
    "platform.version() # returns your system's release version as a single string"
   ]
  }
 ],
 "metadata": {
  "kernelspec": {
   "display_name": "Python [conda env:base] *",
   "language": "python",
   "name": "conda-base-py"
  },
  "language_info": {
   "codemirror_mode": {
    "name": "ipython",
    "version": 3
   },
   "file_extension": ".py",
   "mimetype": "text/x-python",
   "name": "python",
   "nbconvert_exporter": "python",
   "pygments_lexer": "ipython3",
   "version": "3.12.7"
  }
 },
 "nbformat": 4,
 "nbformat_minor": 5
}
