{
 "cells": [
  {
   "cell_type": "code",
   "execution_count": null,
   "id": "c4fc1ac0-8672-43da-9d72-e95314a1f831",
   "metadata": {},
   "outputs": [],
   "source": [
    "\n",
    "class Vehicals:\n",
    "    pass"
   ]
  },
  {
   "cell_type": "code",
   "execution_count": null,
   "id": "25257445-d457-4fea-aac3-e1b1bd5d7269",
   "metadata": {},
   "outputs": [],
   "source": [
    "class LandVehicle(Vehicals):\n",
    "    pass\n"
   ]
  },
  {
   "cell_type": "code",
   "execution_count": 15,
   "id": "119da971-225c-4662-9314-f31160327998",
   "metadata": {},
   "outputs": [
    {
     "name": "stdout",
     "output_type": "stream",
     "text": [
      "{}\n"
     ]
    }
   ],
   "source": [
    "class Vehicals:\n",
    "    pass\n",
    "class LandVehicle(Vehicals):\n",
    "    pass\n",
    "class Car(LandVehicle):\n",
    "    pass\n",
    "issubclass(Car, LandVehicle)\n",
    "\n",
    "mycar = Car()\n",
    "print(mycar.__dict__)"
   ]
  },
  {
   "cell_type": "code",
   "execution_count": 21,
   "id": "d120eb28-df2a-4bf0-aa20-4daeeba288a7",
   "metadata": {},
   "outputs": [
    {
     "name": "stdout",
     "output_type": "stream",
     "text": [
      "{'speed': 5}\n"
     ]
    }
   ],
   "source": [
    "class Vehicals:\n",
    "    def __init__(self, speed):\n",
    "        self.speed = speed\n",
    "class LandVehicle(Vehicals):\n",
    "    pass\n",
    "class Car(LandVehicle):\n",
    "    pass\n",
    "issubclass(Car, LandVehicle)\n",
    "mycar = Car(5)\n",
    "print(mycar.__dict__) # it will inherit propertie from   class Vehicals"
   ]
  },
  {
   "cell_type": "code",
   "execution_count": 23,
   "id": "a191994c-92ff-4f2a-a170-1dc5ea354680",
   "metadata": {},
   "outputs": [
    {
     "name": "stdout",
     "output_type": "stream",
     "text": [
      "{'wheel_count': 5}\n"
     ]
    }
   ],
   "source": [
    "class Vehicals:\n",
    "    def __init__(self, speed):\n",
    "        self.speed = speed\n",
    "class LandVehicle(Vehicals):\n",
    "    def __init__(self, wheel_count):\n",
    "        self.wheel_count = wheel_count\n",
    "class Car(LandVehicle):\n",
    "    pass\n",
    "issubclass(Car, LandVehicle)\n",
    "mycar = Car(5)\n",
    "print(mycar.__dict__) # In this case  it is inheriting propertie only from LandVehicle class, but not Vehicals"
   ]
  },
  {
   "cell_type": "code",
   "execution_count": 43,
   "id": "1f4d0857-7448-4f2f-aa93-c6d682385e4b",
   "metadata": {},
   "outputs": [
    {
     "name": "stdout",
     "output_type": "stream",
     "text": [
      "{'wheel_count': 4, 'speed': 10}\n"
     ]
    }
   ],
   "source": [
    "class Vehicals: # super class\n",
    "    def __init__(self, speed):\n",
    "        self.speed = speed\n",
    "class LandVehicle(Vehicals): # sub class of Vehicals\n",
    "    def __init__(self, speed, wheel_count):\n",
    "        self.wheel_count = wheel_count\n",
    "        Vehicals.__init__(self, speed)\n",
    "class Car(LandVehicle): # sub class of LandVehicle\n",
    "    pass\n",
    "issubclass(Car, LandVehicle)\n",
    "mycar = Car(10, 4)\n",
    "print(mycar.__dict__) # In this case  it is inheriting propertie only from LandVehicle class and Vehicals"
   ]
  },
  {
   "cell_type": "code",
   "execution_count": 45,
   "id": "46828240-c260-45b6-b66d-76322870e4f4",
   "metadata": {},
   "outputs": [
    {
     "name": "stdout",
     "output_type": "stream",
     "text": [
      "{'wheel_count': 4, 'speed': 10}\n"
     ]
    }
   ],
   "source": [
    "class Vehicals: # super class\n",
    "    def __init__(self, speed):\n",
    "        self.speed = speed # instance vars\n",
    "class LandVehicle(Vehicals): # sub class of Vehicals\n",
    "    def __init__(self, speed, wheel_count):\n",
    "        self.wheel_count = wheel_count\n",
    "        super().__init__(speed)\n",
    "class Car(LandVehicle): # sub class of LandVehicle\n",
    "    pass\n",
    "issubclass(Car, LandVehicle)\n",
    "mycar = Car(10, 4)\n",
    "print(mycar.__dict__) # In this case  it is inheriting propertie only from LandVehicle class and Vehicals (works the same way)"
   ]
  },
  {
   "cell_type": "code",
   "execution_count": null,
   "id": "223cae47-7373-4127-9a0a-37d6c3099e3f",
   "metadata": {},
   "outputs": [],
   "source": [
    "# they do the same job\n",
    "# Vehicals.__init__(self, speed)\n",
    "# super().__init__(speed)"
   ]
  },
  {
   "cell_type": "code",
   "execution_count": 51,
   "id": "c88e05ba-d051-46bf-ac54-5adab95758d1",
   "metadata": {},
   "outputs": [
    {
     "name": "stdout",
     "output_type": "stream",
     "text": [
      " This is message for the Vehical class\n",
      "{'wheel_count': 4, 'speed': 10}\n"
     ]
    }
   ],
   "source": [
    "class Vehicals: # super class\n",
    "    class_message = ' This is message for the Vehical class'\n",
    "    def __init__(self, speed):\n",
    "        self.speed = speed # instance vars\n",
    "class LandVehicle(Vehicals): # sub class of Vehicals\n",
    "    def __init__(self, speed, wheel_count):\n",
    "        self.wheel_count = wheel_count\n",
    "        super().__init__(speed)\n",
    "        print(Vehicals.class_message) # call class var form super class - Vehicals class. Vehicals.class_message or super().class_message works\n",
    "class Car(LandVehicle): # sub class of LandVehicle\n",
    "    pass\n",
    "issubclass(Car, LandVehicle)\n",
    "mycar = Car(10, 4)\n",
    "print(mycar.__dict__) # In this case  it is inheriting propertie only from LandVehicle class and Vehicals (works the same way)"
   ]
  },
  {
   "cell_type": "code",
   "execution_count": 90,
   "id": "4e681925-d50a-47ea-bc82-39275af4deb8",
   "metadata": {},
   "outputs": [
    {
     "name": "stdout",
     "output_type": "stream",
     "text": [
      "Adding speed\n",
      " This is message for the Vehical class\n",
      "{'wheel_count': 4, 'speed': 10}\n",
      "{'wheel_count': 4, 'speed': 15}\n",
      "{'wheel_count': 4, 'speed': 20}\n",
      "super speed\n",
      "{'wheel_count': 4, 'speed': 35}\n"
     ]
    }
   ],
   "source": [
    "class Vehicals: # super class\n",
    "    class_message = ' This is message for the Vehical class'\n",
    "    def __init__(self, speed):\n",
    "        self.speed = speed # instance vars\n",
    "class LandVehicle(Vehicals): # sub class of Vehicals\n",
    "    def __init__(self, speed, wheel_count):\n",
    "        self.wheel_count = wheel_count\n",
    "        super().__init__(speed)\n",
    "        print(Vehicals.class_message) # call class var form super class - Vehicals class. Vehicals.class_message or super().class_message works\n",
    "    def add_speed(self):\n",
    "        self.speed += 5\n",
    "class Car(LandVehicle): # sub class of LandVehicle\n",
    "    print('Adding speed')\n",
    "    def super_speed(self):\n",
    "        print('super speed')\n",
    "        LandVehicle.add_speed(self)\n",
    "        LandVehicle.add_speed(self) # super().add_speed() same\n",
    "        super().add_speed() #  same as LandVehicle.add_speed(self)\n",
    "issubclass(Car, LandVehicle)\n",
    "mycar = Car(10, 4)\n",
    "print(mycar.__dict__) # In this case  it is inheriting propertie only from LandVehicle class and Vehicals (works the same way)\n",
    "mycar.add_speed()\n",
    "print(mycar.__dict__) # In this case  it is inheriting propertie only from LandVehicle class and Vehicals (works the same way)\n",
    "mycar.add_speed()\n",
    "print(mycar.__dict__) # In this case  it is inheriting propertie only from LandVehicle class and Vehicals (works the same way)\n",
    "mycar.super_speed()\n",
    "print(mycar.__dict__) # In this case  it is inheriting propertie only from LandVehicle class and Vehicals (works the same way)\n"
   ]
  }
 ],
 "metadata": {
  "kernelspec": {
   "display_name": "Python [conda env:base] *",
   "language": "python",
   "name": "conda-base-py"
  },
  "language_info": {
   "codemirror_mode": {
    "name": "ipython",
    "version": 3
   },
   "file_extension": ".py",
   "mimetype": "text/x-python",
   "name": "python",
   "nbconvert_exporter": "python",
   "pygments_lexer": "ipython3",
   "version": "3.12.7"
  }
 },
 "nbformat": 4,
 "nbformat_minor": 5
}
