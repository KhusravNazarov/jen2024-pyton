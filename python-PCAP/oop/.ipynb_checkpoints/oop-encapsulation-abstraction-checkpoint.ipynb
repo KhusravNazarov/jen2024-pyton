{
 "cells": [
  {
   "cell_type": "code",
   "execution_count": 119,
   "id": "2228b0c1-e417-47b2-bb6c-903803a59d13",
   "metadata": {},
   "outputs": [],
   "source": [
    "class Car():\n",
    "    def __init__(self, model, color, initial_speed = 0): #defauld value\n",
    "        self.model = model\n",
    "        self.color = color\n",
    "        if initial_speed < 0:\n",
    "            self.speed = 0\n",
    "        else:\n",
    "            self.speed = initial_speed\n",
    "    def speed_up(self):\n",
    "        self.speed += 5\n",
    "    def slow_down(self):\n",
    "        if self.speed < 5:\n",
    "            self.speed = 0\n",
    "        else:\n",
    "            self.speed -+ 5\n",
    "    def show_speed(self):\n",
    "        print(\"car speed: \", self.speed)"
   ]
  },
  {
   "cell_type": "code",
   "execution_count": 121,
   "id": "03b04e88-6301-4adb-9f4b-e39827d86aa3",
   "metadata": {},
   "outputs": [
    {
     "name": "stdout",
     "output_type": "stream",
     "text": [
      "car speed:  -10\n"
     ]
    }
   ],
   "source": [
    "my_lovely_car = Car('Mersedes', 'Black', -880)\n",
    "# my_lovely_car.slow_down()\n",
    "# my_lovely_car.slow_down()\n",
    "# my_lovely_car.slow_down()\n",
    "my_lovely_car.speed = -10\n",
    "my_lovely_car.show_speed()\n"
   ]
  },
  {
   "cell_type": "code",
   "execution_count": 125,
   "id": "cab26391-eb8f-4105-98cd-4c261f86a82c",
   "metadata": {},
   "outputs": [],
   "source": [
    "class Car():\n",
    "    def __init__(self, model, color, initial_speed = 0): #defauld value\n",
    "        self.model = model\n",
    "        self.color = color\n",
    "        if initial_speed < 0:\n",
    "            self.__speed = 0  # private properties ( users cant directly call the property) encapsulation principal and abstruction \n",
    "        else:\n",
    "            self.__speed = initial_speed\n",
    "    def speed_up(self):\n",
    "        self.__speed += 5\n",
    "    def slow_down(self):\n",
    "        if self.__speed < 5:\n",
    "            self.__speed = 0\n",
    "        else:\n",
    "            self.__speed -+ 5\n",
    "    def show_speed(self):\n",
    "        print(\"car speed: \", self.__speed)"
   ]
  },
  {
   "cell_type": "code",
   "execution_count": 127,
   "id": "8a2c42b9-d7e7-47dd-aa6d-b390d388f74e",
   "metadata": {},
   "outputs": [
    {
     "name": "stdout",
     "output_type": "stream",
     "text": [
      "car speed:  0\n"
     ]
    }
   ],
   "source": [
    "my_lovely_car = Car('Mersedes', 'Black', -880)\n",
    "# my_lovely_car.slow_down()\n",
    "# my_lovely_car.slow_down()\n",
    "# my_lovely_car.slow_down()\n",
    "my_lovely_car.speed = -10\n",
    "my_lovely_car.show_speed()"
   ]
  }
 ],
 "metadata": {
  "kernelspec": {
   "display_name": "Python [conda env:base] *",
   "language": "python",
   "name": "conda-base-py"
  },
  "language_info": {
   "codemirror_mode": {
    "name": "ipython",
    "version": 3
   },
   "file_extension": ".py",
   "mimetype": "text/x-python",
   "name": "python",
   "nbconvert_exporter": "python",
   "pygments_lexer": "ipython3",
   "version": "3.12.7"
  }
 },
 "nbformat": 4,
 "nbformat_minor": 5
}
