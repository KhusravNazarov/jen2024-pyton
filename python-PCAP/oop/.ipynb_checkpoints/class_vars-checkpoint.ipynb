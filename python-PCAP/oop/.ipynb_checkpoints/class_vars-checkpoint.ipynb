{
 "cells": [
  {
   "cell_type": "code",
   "execution_count": 21,
   "id": "b10db028-9ff4-46d8-bd1c-d06f7bf053d8",
   "metadata": {},
   "outputs": [
    {
     "name": "stdout",
     "output_type": "stream",
     "text": [
      "2\n",
      "2\n",
      "2\n"
     ]
    }
   ],
   "source": [
    "class Dog():\n",
    "    counter = 0\n",
    "    def __init__(self, name, age):\n",
    "        self.__name = name # properties\n",
    "        self.age = age # properties\n",
    "        Dog.counter += 1\n",
    "my_pet = Dog('Ted', 2) # object one\n",
    "simons_pet = Dog('Fox', 3) # object 2\n",
    "print(my_pet.counter)\n",
    "print(simons_pet.counter)\n",
    "print(Dog.counter)\n"
   ]
  },
  {
   "cell_type": "code",
   "execution_count": 41,
   "id": "a9931c1c-ea76-4db7-a1e6-f1740180004b",
   "metadata": {},
   "outputs": [
    {
     "name": "stdout",
     "output_type": "stream",
     "text": [
      "{'__module__': '__main__', 'counter': 0, '__init__': <function Dog.__init__ at 0x146025620>, '__dict__': <attribute '__dict__' of 'Dog' objects>, '__weakref__': <attribute '__weakref__' of 'Dog' objects>, '__doc__': None}\n",
      "{'name': 'kh', 'age': 4}\n",
      "Name is kh\n"
     ]
    }
   ],
   "source": [
    "class Dog():\n",
    "    counter = 0\n",
    "    def __init__(self, name, age):\n",
    "        self.name = name\n",
    "        self.age = age\n",
    "        Dog.counter += 1\n",
    "print(Dog.__dict__)\n",
    "my_pet = Dog('kh', 4)\n",
    "print(my_pet.__dict__)\n",
    "if hasattr(my_pet, 'name'):\n",
    "    print('Name is', my_pet.name)\n",
    "else:\n",
    "    print('NO name')\n",
    "\n",
    "    "
   ]
  },
  {
   "cell_type": "code",
   "execution_count": 43,
   "id": "7efffc6d-5d1e-43fe-9928-cf1e7ed2ec8d",
   "metadata": {},
   "outputs": [
    {
     "name": "stdout",
     "output_type": "stream",
     "text": [
      "Dog\n"
     ]
    }
   ],
   "source": [
    "print(Dog.__name__)"
   ]
  },
  {
   "cell_type": "code",
   "execution_count": 45,
   "id": "bf1f7c91-ec7c-4030-9fd7-9b8fc8edb839",
   "metadata": {},
   "outputs": [
    {
     "data": {
      "text/plain": [
       "'Dog'"
      ]
     },
     "execution_count": 45,
     "metadata": {},
     "output_type": "execute_result"
    }
   ],
   "source": [
    "type(my_pet).__name__"
   ]
  }
 ],
 "metadata": {
  "kernelspec": {
   "display_name": "Python [conda env:base] *",
   "language": "python",
   "name": "conda-base-py"
  },
  "language_info": {
   "codemirror_mode": {
    "name": "ipython",
    "version": 3
   },
   "file_extension": ".py",
   "mimetype": "text/x-python",
   "name": "python",
   "nbconvert_exporter": "python",
   "pygments_lexer": "ipython3",
   "version": "3.12.7"
  }
 },
 "nbformat": 4,
 "nbformat_minor": 5
}
