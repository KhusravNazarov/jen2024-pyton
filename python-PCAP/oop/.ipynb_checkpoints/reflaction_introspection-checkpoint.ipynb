{
 "cells": [
  {
   "cell_type": "code",
   "execution_count": null,
   "id": "009cae3d-8841-45d6-bd85-dfd7867f88b1",
   "metadata": {},
   "outputs": [],
   "source": [
    "def emptystrings(user_object):\n",
    "    for propt_name in user_object.__dict__.keys():\n",
    "        prop_value = getattr(user_object, prop_name # getattr returns value of property\n",
    "        if isinstance(prop_value, str) # var and type checks if value is str\n",
    "            setattr(user_object, prop_name, '') # sets a new value to a given object"
   ]
  },
  {
   "cell_type": "code",
   "execution_count": 3,
   "id": "153437a5-3512-4a54-9d02-7a639e886be3",
   "metadata": {},
   "outputs": [],
   "source": [
    "class Doctor:\n",
    "    def __init__(self, first_name = 'John', last_name = 'Doe'):\n",
    "        self.first_name = first_name\n",
    "        self.last_name = last_name\n",
    "    def __format_names(self):\n",
    "        self.first_name = self.first_name.title()\n",
    "        self.last_name = self.last_name.title()\n",
    "\n",
    "    def  introduce(self):\n",
    "        print('Hi, I am', first_name)\n",
    "    def compare_name(self, name_comp):\n",
    "        if self.first_name == name_comp:\n",
    "            print('We  have the same name')\n",
    "        else:\n",
    "            print('Sorry my name is different')\n",
    "    def get_first_and_last(self):\n",
    "        return self.first_name + ' ' + self.last_name"
   ]
  },
  {
   "cell_type": "code",
   "execution_count": 17,
   "id": "85389e3b-8183-471c-9f09-12f8bab08bc6",
   "metadata": {},
   "outputs": [
    {
     "ename": "AttributeError",
     "evalue": "'Doctor' object has no attribute 'get_first_and_lastd'",
     "output_type": "error",
     "traceback": [
      "\u001b[0;31m---------------------------------------------------------------------------\u001b[0m",
      "\u001b[0;31mAttributeError\u001b[0m                            Traceback (most recent call last)",
      "Cell \u001b[0;32mIn[17], line 2\u001b[0m\n\u001b[1;32m      1\u001b[0m doc_alex \u001b[38;5;241m=\u001b[39m Doctor()\n\u001b[0;32m----> 2\u001b[0m \u001b[38;5;28mprint\u001b[39m(doc_alex\u001b[38;5;241m.\u001b[39mget_first_and_lastd())\n",
      "\u001b[0;31mAttributeError\u001b[0m: 'Doctor' object has no attribute 'get_first_and_lastd'"
     ]
    }
   ],
   "source": [
    "doc_alex = Doctor()\n",
    "print(doc_alex.get_first_and_last())"
   ]
  }
 ],
 "metadata": {
  "kernelspec": {
   "display_name": "Python [conda env:base] *",
   "language": "python",
   "name": "conda-base-py"
  },
  "language_info": {
   "codemirror_mode": {
    "name": "ipython",
    "version": 3
   },
   "file_extension": ".py",
   "mimetype": "text/x-python",
   "name": "python",
   "nbconvert_exporter": "python",
   "pygments_lexer": "ipython3",
   "version": "3.12.7"
  }
 },
 "nbformat": 4,
 "nbformat_minor": 5
}
