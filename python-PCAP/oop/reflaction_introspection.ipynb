{
 "cells": [
  {
   "cell_type": "code",
   "execution_count": null,
   "id": "009cae3d-8841-45d6-bd85-dfd7867f88b1",
   "metadata": {},
   "outputs": [],
   "source": [
    "def emptystrings(user_object):\n",
    "    for propt_name in user_object.__dict__.keys():\n",
    "        prop_value = getattr(user_object, prop_name) # getattr returns value of property\n",
    "        if isinstance(prop_value, str) # var and type checks if value is str\n",
    "            setattr(user_object, prop_name, '') # sets a new value to a given object"
   ]
  },
  {
   "cell_type": "code",
   "execution_count": 105,
   "id": "153437a5-3512-4a54-9d02-7a639e886be3",
   "metadata": {},
   "outputs": [],
   "source": [
    "def emptystrings(user_object):\n",
    "    for prop_name in user_object.__dict__.keys():\n",
    "        prop_value = getattr(user_object, prop_name) # getattr returns value of property\n",
    "        if isinstance(prop_value, str): # var and type checks if value is str\n",
    "            setattr(user_object, prop_name, 'Khusrav') # sets a new value to a given object\n",
    "\n",
    "class Doctor:\n",
    "    def __init__(self, first_name = 'John', last_name = 'Doe'):\n",
    "        self.first_name = first_name\n",
    "        self.last_name = last_name\n",
    "    def __format_names(self):\n",
    "        self.first_name = self.first_name.title()\n",
    "        self.last_name = self.last_name.title()\n",
    "\n",
    "    def  introduce(self):\n",
    "        print('Hi, I am', first_name)\n",
    "    def compare_name(self, name_comp):\n",
    "        if self.first_name == name_comp:\n",
    "            print('We  have the same name')\n",
    "        else:\n",
    "            print('Sorry my name is different')\n",
    "    def get_first_and_last(self):\n",
    "        return 'hi, I am ' + self.first_name + ' ' + self.last_name\n",
    "\n"
   ]
  },
  {
   "cell_type": "code",
   "execution_count": 107,
   "id": "85389e3b-8183-471c-9f09-12f8bab08bc6",
   "metadata": {},
   "outputs": [
    {
     "name": "stdout",
     "output_type": "stream",
     "text": [
      "hi, I am John Doe\n"
     ]
    },
    {
     "ename": "AttributeError",
     "evalue": "'str' object has no attribute '__dict__'",
     "output_type": "error",
     "traceback": [
      "\u001b[0;31m---------------------------------------------------------------------------\u001b[0m",
      "\u001b[0;31mAttributeError\u001b[0m                            Traceback (most recent call last)",
      "Cell \u001b[0;32mIn[107], line 3\u001b[0m\n\u001b[1;32m      1\u001b[0m doc_alex \u001b[38;5;241m=\u001b[39m Doctor()\n\u001b[1;32m      2\u001b[0m \u001b[38;5;28mprint\u001b[39m(doc_alex\u001b[38;5;241m.\u001b[39mget_first_and_last())\n\u001b[0;32m----> 3\u001b[0m emptystrings(doc_alex\u001b[38;5;241m.\u001b[39mfirst_name)\n\u001b[1;32m      4\u001b[0m \u001b[38;5;28mprint\u001b[39m(doc_alex\u001b[38;5;241m.\u001b[39mget_first_and_last())\n\u001b[1;32m      5\u001b[0m emptystrings(doc_alex)\n",
      "Cell \u001b[0;32mIn[105], line 2\u001b[0m, in \u001b[0;36memptystrings\u001b[0;34m(user_object)\u001b[0m\n\u001b[1;32m      1\u001b[0m \u001b[38;5;28;01mdef\u001b[39;00m \u001b[38;5;21memptystrings\u001b[39m(user_object):\n\u001b[0;32m----> 2\u001b[0m     \u001b[38;5;28;01mfor\u001b[39;00m prop_name \u001b[38;5;129;01min\u001b[39;00m user_object\u001b[38;5;241m.\u001b[39m\u001b[38;5;18m__dict__\u001b[39m\u001b[38;5;241m.\u001b[39mkeys(\u001b[38;5;241m1\u001b[39m):\n\u001b[1;32m      3\u001b[0m         prop_value \u001b[38;5;241m=\u001b[39m \u001b[38;5;28mgetattr\u001b[39m(user_object, prop_name) \u001b[38;5;66;03m# getattr returns value of property\u001b[39;00m\n\u001b[1;32m      4\u001b[0m         \u001b[38;5;28;01mif\u001b[39;00m \u001b[38;5;28misinstance\u001b[39m(prop_value, \u001b[38;5;28mstr\u001b[39m): \u001b[38;5;66;03m# var and type checks if value is str\u001b[39;00m\n",
      "\u001b[0;31mAttributeError\u001b[0m: 'str' object has no attribute '__dict__'"
     ]
    }
   ],
   "source": [
    "doc_alex = Doctor()\n",
    "print(doc_alex.get_first_and_last())\n",
    "emptystrings(doc_alex.first_name)\n",
    "print(doc_alex.get_first_and_last())\n",
    "emptystrings(doc_alex)"
   ]
  }
 ],
 "metadata": {
  "kernelspec": {
   "display_name": "Python [conda env:base] *",
   "language": "python",
   "name": "conda-base-py"
  },
  "language_info": {
   "codemirror_mode": {
    "name": "ipython",
    "version": 3
   },
   "file_extension": ".py",
   "mimetype": "text/x-python",
   "name": "python",
   "nbconvert_exporter": "python",
   "pygments_lexer": "ipython3",
   "version": "3.12.7"
  }
 },
 "nbformat": 4,
 "nbformat_minor": 5
}
