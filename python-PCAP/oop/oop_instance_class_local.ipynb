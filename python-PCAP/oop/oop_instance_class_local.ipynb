{
 "cells": [
  {
   "cell_type": "code",
   "execution_count": 31,
   "id": "7813fd26-abff-4ba0-b804-1f00b266f0e1",
   "metadata": {},
   "outputs": [
    {
     "ename": "IndentationError",
     "evalue": "expected an indented block after function definition on line 12 (248377491.py, line 14)",
     "output_type": "error",
     "traceback": [
      "\u001b[0;36m  Cell \u001b[0;32mIn[31], line 14\u001b[0;36m\u001b[0m\n\u001b[0;31m    shamburg_house = House('4422 shamburg', 130, 100000) # object1\u001b[0m\n\u001b[0m                                                                  ^\u001b[0m\n\u001b[0;31mIndentationError\u001b[0m\u001b[0;31m:\u001b[0m expected an indented block after function definition on line 12\n"
     ]
    }
   ],
   "source": [
    "class House():\n",
    "    counter = 0\n",
    "    def __init__(self, address, area, price):\n",
    "        self.address = address\n",
    "        self.area  = area\n",
    "        self.price = price # instans variable refers useng self.\n",
    "        House.counter +=1 # class variable refers using House.\n",
    "        quality = 'high' # local variable ( can not access outside of constructor)  \n",
    "\n",
    "    def present(self): # method named present\n",
    "        print ( 'The house at', self.address, 'has an area of', self.area, 'and costs', self.price)\n",
    "    def __str__(self):\n",
    "        return \n",
    "shamburg_house = House('4422 shamburg', 130, 100000) # object1\n",
    "rm_house = House('4422 rm', 143, 105000) # object 2\n",
    "shamburg_house.present()\n",
    "rm_house.present()\n",
    "print(House.counter)\n",
    "print(shamburg_house.__dict__) # seee atributes of the object\n",
    "\n",
    "print(House.__dict__)"
   ]
  },
  {
   "cell_type": "code",
   "execution_count": null,
   "id": "43b2401e-3c36-453a-9588-4aa84d35166d",
   "metadata": {},
   "outputs": [],
   "source": []
  }
 ],
 "metadata": {
  "kernelspec": {
   "display_name": "Python [conda env:base] *",
   "language": "python",
   "name": "conda-base-py"
  },
  "language_info": {
   "codemirror_mode": {
    "name": "ipython",
    "version": 3
   },
   "file_extension": ".py",
   "mimetype": "text/x-python",
   "name": "python",
   "nbconvert_exporter": "python",
   "pygments_lexer": "ipython3",
   "version": "3.12.7"
  }
 },
 "nbformat": 4,
 "nbformat_minor": 5
}
