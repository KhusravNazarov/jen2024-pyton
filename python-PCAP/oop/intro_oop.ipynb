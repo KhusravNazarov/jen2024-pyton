{
 "cells": [
  {
   "cell_type": "code",
   "execution_count": 3,
   "id": "965bd798-046d-477b-b70d-727fdb691fbc",
   "metadata": {},
   "outputs": [
    {
     "name": "stdin",
     "output_type": "stream",
     "text": [
      "What is the width?  5\n",
      "What is the height?  1\n"
     ]
    },
    {
     "name": "stdout",
     "output_type": "stream",
     "text": [
      "5\n"
     ]
    }
   ],
   "source": [
    "# procedural approach\n",
    "def calculate_area(width, height):\n",
    "    return width * height\n",
    "width = int(input('What is the width? '))\n",
    "height = int(input('What is the height? '))\n",
    "area = calculate_area(width, height)\n",
    "print(area)"
   ]
  },
  {
   "cell_type": "code",
   "execution_count": 16,
   "id": "a30bcc49-58c8-4365-b37e-915cfd152ee1",
   "metadata": {},
   "outputs": [
    {
     "name": "stdout",
     "output_type": "stream",
     "text": [
      "sampleNick\n",
      "sampleCity\n"
     ]
    }
   ],
   "source": [
    "# oop\n",
    "class User: # convention to start with CAPITAL letter\n",
    "    def __init__(self):   # constructor function - all constructors must have at least one parameter\n",
    "       self.nickcname = 'sampleNick' # inform python that whenever you create user give this properties\n",
    "       self.city = 'sampleCity' # inform python that whenever you create user give this properties\n",
    "    def introduce(self):\n",
    "        print('Hello, I am', self.nickcname, 'and I live in', self.city)\n",
    "sample_user = User()\n",
    "# no metter if you want to access an attribute or a method inside an object, you use the dot notation\n",
    "sample_user.introduce()  \n",
    "print(sample_user.nickcname)\n",
    "print(sample_user.city)"
   ]
  },
  {
   "cell_type": "code",
   "execution_count": 22,
   "id": "e049e387-aa12-4419-9819-d5cca1f0af76",
   "metadata": {},
   "outputs": [
    {
     "name": "stdout",
     "output_type": "stream",
     "text": [
      "Hello, I am Khusrav and I live in Chicago\n",
      "Khusrav\n",
      "Chicago\n"
     ]
    }
   ],
   "source": [
    "# oop\n",
    "class User: # convention to start with CAPITAL letter\n",
    "    def __init__(self, user_nickname, user_city):   # constructor function - all constructors must have at least one parameter\n",
    "    # self.nickname refers to propertie of the object\n",
    "       self.nickcname = user_nickname # inform python that whenever you create user give this properties\n",
    "       self.city = user_city # inform python that whenever you create user give this properties\n",
    "    def introduce(self):\n",
    "        print('Hello, I am', self.nickcname, 'and I live in', self.city)\n",
    "sample_user = User('Khusrav', 'Chicago')\n",
    "# no metter if you want to access an attribute or a method inside an object, you use the dot notation\n",
    "sample_user.introduce()  \n",
    "print(sample_user.nickcname)\n",
    "print(sample_user.city)"
   ]
  },
  {
   "cell_type": "code",
   "execution_count": 24,
   "id": "2150a3a7-e9cb-4a6d-8d77-4ab247357bf3",
   "metadata": {},
   "outputs": [
    {
     "name": "stdout",
     "output_type": "stream",
     "text": [
      "Hello, I am Simon and I live in Hisor\n",
      "Hello, I am Khusrav and I live in Chicago\n",
      "Khusrav\n",
      "Chicago\n"
     ]
    }
   ],
   "source": [
    "# oop\n",
    "class User: # convention to start with CAPITAL letter\n",
    "    def __init__(self, user_nickname, user_city):   # constructor function - all constructors must have at least one parameter\n",
    "    # self.nickname refers to propertie of the object\n",
    "       self.nickcname = user_nickname # inform python that whenever you create user give this properties\n",
    "       self.city = user_city # inform python that whenever you create user give this properties\n",
    "    def introduce(self):\n",
    "        print('Hello, I am', self.nickcname, 'and I live in', self.city)\n",
    "sample_user = User('Khusrav', 'Chicago')\n",
    "First_user = User('Simon', 'Hisor')\n",
    "# no metter if you want to access an attribute or a method inside an object, you use the dot notation\n",
    "First_user.introduce()\n",
    "sample_user.introduce()  \n",
    "print(sample_user.nickcname)\n",
    "print(sample_user.city)"
   ]
  }
 ],
 "metadata": {
  "kernelspec": {
   "display_name": "Python [conda env:base] *",
   "language": "python",
   "name": "conda-base-py"
  },
  "language_info": {
   "codemirror_mode": {
    "name": "ipython",
    "version": 3
   },
   "file_extension": ".py",
   "mimetype": "text/x-python",
   "name": "python",
   "nbconvert_exporter": "python",
   "pygments_lexer": "ipython3",
   "version": "3.12.7"
  }
 },
 "nbformat": 4,
 "nbformat_minor": 5
}
