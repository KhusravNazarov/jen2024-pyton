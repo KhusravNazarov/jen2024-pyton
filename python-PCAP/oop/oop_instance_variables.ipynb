{
 "cells": [
  {
   "cell_type": "code",
   "execution_count": 1,
   "id": "80f6d485-cc2f-4600-8fd1-17eff8e98af6",
   "metadata": {},
   "outputs": [],
   "source": [
    "class Dog():\n",
    "    def __init__(self, name, age):\n",
    "        self.name = name\n",
    "        self.age = age\n",
    "        "
   ]
  },
  {
   "cell_type": "code",
   "execution_count": 9,
   "id": "a8f0f81e-74dc-41cc-9585-03ac0b7d5c05",
   "metadata": {},
   "outputs": [
    {
     "name": "stdout",
     "output_type": "stream",
     "text": [
      "{'name': 'Teddy', 'age': 2}\n",
      "{'age': 2, 'colour': 'broun'}\n"
     ]
    }
   ],
   "source": [
    "my_pet = Dog('Teddy', 2)\n",
    "print(my_pet.__dict__) # __dict__ variable shows all available attributes of the given class\n",
    "\n",
    "my_pet.colour = 'broun'\n",
    "print(my_pet.__dict__)\n",
    "\n",
    "del my_pet.name\n",
    "print(my_pet.__dict__)"
   ]
  },
  {
   "cell_type": "code",
   "execution_count": 31,
   "id": "ebcb7f58-0621-4a03-a4a6-df29bb939979",
   "metadata": {},
   "outputs": [
    {
     "name": "stdout",
     "output_type": "stream",
     "text": [
      "{'name': 'Teddy', 'age': 2}\n",
      "{'name': 'Teddy', 'age': 2, 'colour': 'broun'}\n",
      "{'age': 2, 'colour': 'broun'}\n"
     ]
    }
   ],
   "source": [
    "class Dog():\n",
    "    def __init__(self, name, age):\n",
    "        self.__name = name\n",
    "        self.age = age\n",
    "my_pet = Dog('Teddy', 2)\n",
    "print(my_pet.__dict__) # __dict__ variable shows all available attributes of the given class\n",
    "\n",
    "my_pet.colour = 'broun'\n",
    "print(my_pet.__dict__)\n",
    "\n",
    "del my_pet.name\n",
    "print(my_pet.__dict__)"
   ]
  }
 ],
 "metadata": {
  "kernelspec": {
   "display_name": "Python [conda env:base] *",
   "language": "python",
   "name": "conda-base-py"
  },
  "language_info": {
   "codemirror_mode": {
    "name": "ipython",
    "version": 3
   },
   "file_extension": ".py",
   "mimetype": "text/x-python",
   "name": "python",
   "nbconvert_exporter": "python",
   "pygments_lexer": "ipython3",
   "version": "3.12.7"
  }
 },
 "nbformat": 4,
 "nbformat_minor": 5
}
